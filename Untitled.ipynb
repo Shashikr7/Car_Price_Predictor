{
 "cells": [
  {
   "cell_type": "code",
   "execution_count": 1,
   "id": "0ce8a469",
   "metadata": {},
   "outputs": [],
   "source": [
    "import warnings"
   ]
  },
  {
   "cell_type": "code",
   "execution_count": 2,
   "id": "7d6efbd2",
   "metadata": {},
   "outputs": [],
   "source": [
    "warnings.filterwarnings('ignore')"
   ]
  },
  {
   "cell_type": "code",
   "execution_count": 3,
   "id": "c4ccf912",
   "metadata": {},
   "outputs": [],
   "source": [
    "import pandas as pd"
   ]
  },
  {
   "cell_type": "code",
   "execution_count": 4,
   "id": "221c4674",
   "metadata": {},
   "outputs": [],
   "source": [
    "df=pd.read_csv(\"car data.csv\")"
   ]
  },
  {
   "cell_type": "code",
   "execution_count": 5,
   "id": "ba67d703",
   "metadata": {},
   "outputs": [
    {
     "data": {
      "text/html": [
       "<div>\n",
       "<style scoped>\n",
       "    .dataframe tbody tr th:only-of-type {\n",
       "        vertical-align: middle;\n",
       "    }\n",
       "\n",
       "    .dataframe tbody tr th {\n",
       "        vertical-align: top;\n",
       "    }\n",
       "\n",
       "    .dataframe thead th {\n",
       "        text-align: right;\n",
       "    }\n",
       "</style>\n",
       "<table border=\"1\" class=\"dataframe\">\n",
       "  <thead>\n",
       "    <tr style=\"text-align: right;\">\n",
       "      <th></th>\n",
       "      <th>Car_Name</th>\n",
       "      <th>Year</th>\n",
       "      <th>Selling_Price</th>\n",
       "      <th>Present_Price</th>\n",
       "      <th>Kms_Driven</th>\n",
       "      <th>Fuel_Type</th>\n",
       "      <th>Seller_Type</th>\n",
       "      <th>Transmission</th>\n",
       "      <th>Owner</th>\n",
       "    </tr>\n",
       "  </thead>\n",
       "  <tbody>\n",
       "    <tr>\n",
       "      <th>0</th>\n",
       "      <td>ritz</td>\n",
       "      <td>2014</td>\n",
       "      <td>3.35</td>\n",
       "      <td>5.59</td>\n",
       "      <td>27000</td>\n",
       "      <td>Petrol</td>\n",
       "      <td>Dealer</td>\n",
       "      <td>Manual</td>\n",
       "      <td>0</td>\n",
       "    </tr>\n",
       "    <tr>\n",
       "      <th>1</th>\n",
       "      <td>sx4</td>\n",
       "      <td>2013</td>\n",
       "      <td>4.75</td>\n",
       "      <td>9.54</td>\n",
       "      <td>43000</td>\n",
       "      <td>Diesel</td>\n",
       "      <td>Dealer</td>\n",
       "      <td>Manual</td>\n",
       "      <td>0</td>\n",
       "    </tr>\n",
       "    <tr>\n",
       "      <th>2</th>\n",
       "      <td>ciaz</td>\n",
       "      <td>2017</td>\n",
       "      <td>7.25</td>\n",
       "      <td>9.85</td>\n",
       "      <td>6900</td>\n",
       "      <td>Petrol</td>\n",
       "      <td>Dealer</td>\n",
       "      <td>Manual</td>\n",
       "      <td>0</td>\n",
       "    </tr>\n",
       "    <tr>\n",
       "      <th>3</th>\n",
       "      <td>wagon r</td>\n",
       "      <td>2011</td>\n",
       "      <td>2.85</td>\n",
       "      <td>4.15</td>\n",
       "      <td>5200</td>\n",
       "      <td>Petrol</td>\n",
       "      <td>Dealer</td>\n",
       "      <td>Manual</td>\n",
       "      <td>0</td>\n",
       "    </tr>\n",
       "    <tr>\n",
       "      <th>4</th>\n",
       "      <td>swift</td>\n",
       "      <td>2014</td>\n",
       "      <td>4.60</td>\n",
       "      <td>6.87</td>\n",
       "      <td>42450</td>\n",
       "      <td>Diesel</td>\n",
       "      <td>Dealer</td>\n",
       "      <td>Manual</td>\n",
       "      <td>0</td>\n",
       "    </tr>\n",
       "  </tbody>\n",
       "</table>\n",
       "</div>"
      ],
      "text/plain": [
       "  Car_Name  Year  Selling_Price  Present_Price  Kms_Driven Fuel_Type  \\\n",
       "0     ritz  2014           3.35           5.59       27000    Petrol   \n",
       "1      sx4  2013           4.75           9.54       43000    Diesel   \n",
       "2     ciaz  2017           7.25           9.85        6900    Petrol   \n",
       "3  wagon r  2011           2.85           4.15        5200    Petrol   \n",
       "4    swift  2014           4.60           6.87       42450    Diesel   \n",
       "\n",
       "  Seller_Type Transmission  Owner  \n",
       "0      Dealer       Manual      0  \n",
       "1      Dealer       Manual      0  \n",
       "2      Dealer       Manual      0  \n",
       "3      Dealer       Manual      0  \n",
       "4      Dealer       Manual      0  "
      ]
     },
     "execution_count": 5,
     "metadata": {},
     "output_type": "execute_result"
    }
   ],
   "source": [
    "#display first 5 rows of the dataset\n",
    "df.head()"
   ]
  },
  {
   "cell_type": "code",
   "execution_count": 6,
   "id": "3e959240",
   "metadata": {},
   "outputs": [
    {
     "data": {
      "text/html": [
       "<div>\n",
       "<style scoped>\n",
       "    .dataframe tbody tr th:only-of-type {\n",
       "        vertical-align: middle;\n",
       "    }\n",
       "\n",
       "    .dataframe tbody tr th {\n",
       "        vertical-align: top;\n",
       "    }\n",
       "\n",
       "    .dataframe thead th {\n",
       "        text-align: right;\n",
       "    }\n",
       "</style>\n",
       "<table border=\"1\" class=\"dataframe\">\n",
       "  <thead>\n",
       "    <tr style=\"text-align: right;\">\n",
       "      <th></th>\n",
       "      <th>Car_Name</th>\n",
       "      <th>Year</th>\n",
       "      <th>Selling_Price</th>\n",
       "      <th>Present_Price</th>\n",
       "      <th>Kms_Driven</th>\n",
       "      <th>Fuel_Type</th>\n",
       "      <th>Seller_Type</th>\n",
       "      <th>Transmission</th>\n",
       "      <th>Owner</th>\n",
       "    </tr>\n",
       "  </thead>\n",
       "  <tbody>\n",
       "    <tr>\n",
       "      <th>296</th>\n",
       "      <td>city</td>\n",
       "      <td>2016</td>\n",
       "      <td>9.50</td>\n",
       "      <td>11.6</td>\n",
       "      <td>33988</td>\n",
       "      <td>Diesel</td>\n",
       "      <td>Dealer</td>\n",
       "      <td>Manual</td>\n",
       "      <td>0</td>\n",
       "    </tr>\n",
       "    <tr>\n",
       "      <th>297</th>\n",
       "      <td>brio</td>\n",
       "      <td>2015</td>\n",
       "      <td>4.00</td>\n",
       "      <td>5.9</td>\n",
       "      <td>60000</td>\n",
       "      <td>Petrol</td>\n",
       "      <td>Dealer</td>\n",
       "      <td>Manual</td>\n",
       "      <td>0</td>\n",
       "    </tr>\n",
       "    <tr>\n",
       "      <th>298</th>\n",
       "      <td>city</td>\n",
       "      <td>2009</td>\n",
       "      <td>3.35</td>\n",
       "      <td>11.0</td>\n",
       "      <td>87934</td>\n",
       "      <td>Petrol</td>\n",
       "      <td>Dealer</td>\n",
       "      <td>Manual</td>\n",
       "      <td>0</td>\n",
       "    </tr>\n",
       "    <tr>\n",
       "      <th>299</th>\n",
       "      <td>city</td>\n",
       "      <td>2017</td>\n",
       "      <td>11.50</td>\n",
       "      <td>12.5</td>\n",
       "      <td>9000</td>\n",
       "      <td>Diesel</td>\n",
       "      <td>Dealer</td>\n",
       "      <td>Manual</td>\n",
       "      <td>0</td>\n",
       "    </tr>\n",
       "    <tr>\n",
       "      <th>300</th>\n",
       "      <td>brio</td>\n",
       "      <td>2016</td>\n",
       "      <td>5.30</td>\n",
       "      <td>5.9</td>\n",
       "      <td>5464</td>\n",
       "      <td>Petrol</td>\n",
       "      <td>Dealer</td>\n",
       "      <td>Manual</td>\n",
       "      <td>0</td>\n",
       "    </tr>\n",
       "  </tbody>\n",
       "</table>\n",
       "</div>"
      ],
      "text/plain": [
       "    Car_Name  Year  Selling_Price  Present_Price  Kms_Driven Fuel_Type  \\\n",
       "296     city  2016           9.50           11.6       33988    Diesel   \n",
       "297     brio  2015           4.00            5.9       60000    Petrol   \n",
       "298     city  2009           3.35           11.0       87934    Petrol   \n",
       "299     city  2017          11.50           12.5        9000    Diesel   \n",
       "300     brio  2016           5.30            5.9        5464    Petrol   \n",
       "\n",
       "    Seller_Type Transmission  Owner  \n",
       "296      Dealer       Manual      0  \n",
       "297      Dealer       Manual      0  \n",
       "298      Dealer       Manual      0  \n",
       "299      Dealer       Manual      0  \n",
       "300      Dealer       Manual      0  "
      ]
     },
     "execution_count": 6,
     "metadata": {},
     "output_type": "execute_result"
    }
   ],
   "source": [
    "#display 5 last rows of the dataset \n",
    "df.tail()"
   ]
  },
  {
   "cell_type": "code",
   "execution_count": 7,
   "id": "9d051bbd",
   "metadata": {},
   "outputs": [
    {
     "data": {
      "text/plain": [
       "(301, 9)"
      ]
     },
     "execution_count": 7,
     "metadata": {},
     "output_type": "execute_result"
    }
   ],
   "source": [
    "#find shape of the dataset ...i.e numbers of rows and colums\n",
    "df.shape"
   ]
  },
  {
   "cell_type": "code",
   "execution_count": 8,
   "id": "ec522292",
   "metadata": {},
   "outputs": [
    {
     "name": "stdout",
     "output_type": "stream",
     "text": [
      "<class 'pandas.core.frame.DataFrame'>\n",
      "RangeIndex: 301 entries, 0 to 300\n",
      "Data columns (total 9 columns):\n",
      " #   Column         Non-Null Count  Dtype  \n",
      "---  ------         --------------  -----  \n",
      " 0   Car_Name       301 non-null    object \n",
      " 1   Year           301 non-null    int64  \n",
      " 2   Selling_Price  301 non-null    float64\n",
      " 3   Present_Price  301 non-null    float64\n",
      " 4   Kms_Driven     301 non-null    int64  \n",
      " 5   Fuel_Type      301 non-null    object \n",
      " 6   Seller_Type    301 non-null    object \n",
      " 7   Transmission   301 non-null    object \n",
      " 8   Owner          301 non-null    int64  \n",
      "dtypes: float64(2), int64(3), object(4)\n",
      "memory usage: 21.3+ KB\n"
     ]
    }
   ],
   "source": [
    "#get information about dataset...like total rows, total colums, datatypes etc\n",
    "df.info()"
   ]
  },
  {
   "cell_type": "code",
   "execution_count": 9,
   "id": "9a5333a1",
   "metadata": {},
   "outputs": [
    {
     "data": {
      "text/plain": [
       "Car_Name         0\n",
       "Year             0\n",
       "Selling_Price    0\n",
       "Present_Price    0\n",
       "Kms_Driven       0\n",
       "Fuel_Type        0\n",
       "Seller_Type      0\n",
       "Transmission     0\n",
       "Owner            0\n",
       "dtype: int64"
      ]
     },
     "execution_count": 9,
     "metadata": {},
     "output_type": "execute_result"
    }
   ],
   "source": [
    "#to check null values in dataset\n",
    "df.isnull().sum()"
   ]
  },
  {
   "cell_type": "code",
   "execution_count": 10,
   "id": "4e7284fd",
   "metadata": {},
   "outputs": [
    {
     "data": {
      "text/html": [
       "<div>\n",
       "<style scoped>\n",
       "    .dataframe tbody tr th:only-of-type {\n",
       "        vertical-align: middle;\n",
       "    }\n",
       "\n",
       "    .dataframe tbody tr th {\n",
       "        vertical-align: top;\n",
       "    }\n",
       "\n",
       "    .dataframe thead th {\n",
       "        text-align: right;\n",
       "    }\n",
       "</style>\n",
       "<table border=\"1\" class=\"dataframe\">\n",
       "  <thead>\n",
       "    <tr style=\"text-align: right;\">\n",
       "      <th></th>\n",
       "      <th>Year</th>\n",
       "      <th>Selling_Price</th>\n",
       "      <th>Present_Price</th>\n",
       "      <th>Kms_Driven</th>\n",
       "      <th>Owner</th>\n",
       "    </tr>\n",
       "  </thead>\n",
       "  <tbody>\n",
       "    <tr>\n",
       "      <th>count</th>\n",
       "      <td>301.000000</td>\n",
       "      <td>301.000000</td>\n",
       "      <td>301.000000</td>\n",
       "      <td>301.000000</td>\n",
       "      <td>301.000000</td>\n",
       "    </tr>\n",
       "    <tr>\n",
       "      <th>mean</th>\n",
       "      <td>2013.627907</td>\n",
       "      <td>4.661296</td>\n",
       "      <td>7.628472</td>\n",
       "      <td>36947.205980</td>\n",
       "      <td>0.043189</td>\n",
       "    </tr>\n",
       "    <tr>\n",
       "      <th>std</th>\n",
       "      <td>2.891554</td>\n",
       "      <td>5.082812</td>\n",
       "      <td>8.644115</td>\n",
       "      <td>38886.883882</td>\n",
       "      <td>0.247915</td>\n",
       "    </tr>\n",
       "    <tr>\n",
       "      <th>min</th>\n",
       "      <td>2003.000000</td>\n",
       "      <td>0.100000</td>\n",
       "      <td>0.320000</td>\n",
       "      <td>500.000000</td>\n",
       "      <td>0.000000</td>\n",
       "    </tr>\n",
       "    <tr>\n",
       "      <th>25%</th>\n",
       "      <td>2012.000000</td>\n",
       "      <td>0.900000</td>\n",
       "      <td>1.200000</td>\n",
       "      <td>15000.000000</td>\n",
       "      <td>0.000000</td>\n",
       "    </tr>\n",
       "    <tr>\n",
       "      <th>50%</th>\n",
       "      <td>2014.000000</td>\n",
       "      <td>3.600000</td>\n",
       "      <td>6.400000</td>\n",
       "      <td>32000.000000</td>\n",
       "      <td>0.000000</td>\n",
       "    </tr>\n",
       "    <tr>\n",
       "      <th>75%</th>\n",
       "      <td>2016.000000</td>\n",
       "      <td>6.000000</td>\n",
       "      <td>9.900000</td>\n",
       "      <td>48767.000000</td>\n",
       "      <td>0.000000</td>\n",
       "    </tr>\n",
       "    <tr>\n",
       "      <th>max</th>\n",
       "      <td>2018.000000</td>\n",
       "      <td>35.000000</td>\n",
       "      <td>92.600000</td>\n",
       "      <td>500000.000000</td>\n",
       "      <td>3.000000</td>\n",
       "    </tr>\n",
       "  </tbody>\n",
       "</table>\n",
       "</div>"
      ],
      "text/plain": [
       "              Year  Selling_Price  Present_Price     Kms_Driven       Owner\n",
       "count   301.000000     301.000000     301.000000     301.000000  301.000000\n",
       "mean   2013.627907       4.661296       7.628472   36947.205980    0.043189\n",
       "std       2.891554       5.082812       8.644115   38886.883882    0.247915\n",
       "min    2003.000000       0.100000       0.320000     500.000000    0.000000\n",
       "25%    2012.000000       0.900000       1.200000   15000.000000    0.000000\n",
       "50%    2014.000000       3.600000       6.400000   32000.000000    0.000000\n",
       "75%    2016.000000       6.000000       9.900000   48767.000000    0.000000\n",
       "max    2018.000000      35.000000      92.600000  500000.000000    3.000000"
      ]
     },
     "execution_count": 10,
     "metadata": {},
     "output_type": "execute_result"
    }
   ],
   "source": [
    "#overall statics of the data\n",
    "df.describe()"
   ]
  },
  {
   "cell_type": "code",
   "execution_count": 11,
   "id": "18b043cf",
   "metadata": {},
   "outputs": [],
   "source": [
    "import datetime"
   ]
  },
  {
   "cell_type": "code",
   "execution_count": 12,
   "id": "5e3c72f1",
   "metadata": {},
   "outputs": [],
   "source": [
    "date_time=datetime.datetime.now()"
   ]
  },
  {
   "cell_type": "code",
   "execution_count": 13,
   "id": "c80dfefa",
   "metadata": {},
   "outputs": [],
   "source": [
    "#find age of the car and adding one more columns in the data as \"Age\"\n",
    "df['Age']=date_time.year-df['Year']"
   ]
  },
  {
   "cell_type": "code",
   "execution_count": 14,
   "id": "836ceacb",
   "metadata": {},
   "outputs": [
    {
     "data": {
      "text/html": [
       "<div>\n",
       "<style scoped>\n",
       "    .dataframe tbody tr th:only-of-type {\n",
       "        vertical-align: middle;\n",
       "    }\n",
       "\n",
       "    .dataframe tbody tr th {\n",
       "        vertical-align: top;\n",
       "    }\n",
       "\n",
       "    .dataframe thead th {\n",
       "        text-align: right;\n",
       "    }\n",
       "</style>\n",
       "<table border=\"1\" class=\"dataframe\">\n",
       "  <thead>\n",
       "    <tr style=\"text-align: right;\">\n",
       "      <th></th>\n",
       "      <th>Car_Name</th>\n",
       "      <th>Year</th>\n",
       "      <th>Selling_Price</th>\n",
       "      <th>Present_Price</th>\n",
       "      <th>Kms_Driven</th>\n",
       "      <th>Fuel_Type</th>\n",
       "      <th>Seller_Type</th>\n",
       "      <th>Transmission</th>\n",
       "      <th>Owner</th>\n",
       "      <th>Age</th>\n",
       "    </tr>\n",
       "  </thead>\n",
       "  <tbody>\n",
       "    <tr>\n",
       "      <th>0</th>\n",
       "      <td>ritz</td>\n",
       "      <td>2014</td>\n",
       "      <td>3.35</td>\n",
       "      <td>5.59</td>\n",
       "      <td>27000</td>\n",
       "      <td>Petrol</td>\n",
       "      <td>Dealer</td>\n",
       "      <td>Manual</td>\n",
       "      <td>0</td>\n",
       "      <td>9</td>\n",
       "    </tr>\n",
       "    <tr>\n",
       "      <th>1</th>\n",
       "      <td>sx4</td>\n",
       "      <td>2013</td>\n",
       "      <td>4.75</td>\n",
       "      <td>9.54</td>\n",
       "      <td>43000</td>\n",
       "      <td>Diesel</td>\n",
       "      <td>Dealer</td>\n",
       "      <td>Manual</td>\n",
       "      <td>0</td>\n",
       "      <td>10</td>\n",
       "    </tr>\n",
       "    <tr>\n",
       "      <th>2</th>\n",
       "      <td>ciaz</td>\n",
       "      <td>2017</td>\n",
       "      <td>7.25</td>\n",
       "      <td>9.85</td>\n",
       "      <td>6900</td>\n",
       "      <td>Petrol</td>\n",
       "      <td>Dealer</td>\n",
       "      <td>Manual</td>\n",
       "      <td>0</td>\n",
       "      <td>6</td>\n",
       "    </tr>\n",
       "    <tr>\n",
       "      <th>3</th>\n",
       "      <td>wagon r</td>\n",
       "      <td>2011</td>\n",
       "      <td>2.85</td>\n",
       "      <td>4.15</td>\n",
       "      <td>5200</td>\n",
       "      <td>Petrol</td>\n",
       "      <td>Dealer</td>\n",
       "      <td>Manual</td>\n",
       "      <td>0</td>\n",
       "      <td>12</td>\n",
       "    </tr>\n",
       "    <tr>\n",
       "      <th>4</th>\n",
       "      <td>swift</td>\n",
       "      <td>2014</td>\n",
       "      <td>4.60</td>\n",
       "      <td>6.87</td>\n",
       "      <td>42450</td>\n",
       "      <td>Diesel</td>\n",
       "      <td>Dealer</td>\n",
       "      <td>Manual</td>\n",
       "      <td>0</td>\n",
       "      <td>9</td>\n",
       "    </tr>\n",
       "  </tbody>\n",
       "</table>\n",
       "</div>"
      ],
      "text/plain": [
       "  Car_Name  Year  Selling_Price  Present_Price  Kms_Driven Fuel_Type  \\\n",
       "0     ritz  2014           3.35           5.59       27000    Petrol   \n",
       "1      sx4  2013           4.75           9.54       43000    Diesel   \n",
       "2     ciaz  2017           7.25           9.85        6900    Petrol   \n",
       "3  wagon r  2011           2.85           4.15        5200    Petrol   \n",
       "4    swift  2014           4.60           6.87       42450    Diesel   \n",
       "\n",
       "  Seller_Type Transmission  Owner  Age  \n",
       "0      Dealer       Manual      0    9  \n",
       "1      Dealer       Manual      0   10  \n",
       "2      Dealer       Manual      0    6  \n",
       "3      Dealer       Manual      0   12  \n",
       "4      Dealer       Manual      0    9  "
      ]
     },
     "execution_count": 14,
     "metadata": {},
     "output_type": "execute_result"
    }
   ],
   "source": [
    "df.head()"
   ]
  },
  {
   "cell_type": "code",
   "execution_count": 15,
   "id": "97d914d1",
   "metadata": {},
   "outputs": [],
   "source": [
    "#droping year colums from the dataset...because we have age of the car...so we dont need the \"year \" colums\n",
    "df.drop('Year',axis=1,inplace=True)"
   ]
  },
  {
   "cell_type": "code",
   "execution_count": 16,
   "id": "20053311",
   "metadata": {},
   "outputs": [
    {
     "data": {
      "text/html": [
       "<div>\n",
       "<style scoped>\n",
       "    .dataframe tbody tr th:only-of-type {\n",
       "        vertical-align: middle;\n",
       "    }\n",
       "\n",
       "    .dataframe tbody tr th {\n",
       "        vertical-align: top;\n",
       "    }\n",
       "\n",
       "    .dataframe thead th {\n",
       "        text-align: right;\n",
       "    }\n",
       "</style>\n",
       "<table border=\"1\" class=\"dataframe\">\n",
       "  <thead>\n",
       "    <tr style=\"text-align: right;\">\n",
       "      <th></th>\n",
       "      <th>Car_Name</th>\n",
       "      <th>Selling_Price</th>\n",
       "      <th>Present_Price</th>\n",
       "      <th>Kms_Driven</th>\n",
       "      <th>Fuel_Type</th>\n",
       "      <th>Seller_Type</th>\n",
       "      <th>Transmission</th>\n",
       "      <th>Owner</th>\n",
       "      <th>Age</th>\n",
       "    </tr>\n",
       "  </thead>\n",
       "  <tbody>\n",
       "    <tr>\n",
       "      <th>0</th>\n",
       "      <td>ritz</td>\n",
       "      <td>3.35</td>\n",
       "      <td>5.59</td>\n",
       "      <td>27000</td>\n",
       "      <td>Petrol</td>\n",
       "      <td>Dealer</td>\n",
       "      <td>Manual</td>\n",
       "      <td>0</td>\n",
       "      <td>9</td>\n",
       "    </tr>\n",
       "    <tr>\n",
       "      <th>1</th>\n",
       "      <td>sx4</td>\n",
       "      <td>4.75</td>\n",
       "      <td>9.54</td>\n",
       "      <td>43000</td>\n",
       "      <td>Diesel</td>\n",
       "      <td>Dealer</td>\n",
       "      <td>Manual</td>\n",
       "      <td>0</td>\n",
       "      <td>10</td>\n",
       "    </tr>\n",
       "    <tr>\n",
       "      <th>2</th>\n",
       "      <td>ciaz</td>\n",
       "      <td>7.25</td>\n",
       "      <td>9.85</td>\n",
       "      <td>6900</td>\n",
       "      <td>Petrol</td>\n",
       "      <td>Dealer</td>\n",
       "      <td>Manual</td>\n",
       "      <td>0</td>\n",
       "      <td>6</td>\n",
       "    </tr>\n",
       "    <tr>\n",
       "      <th>3</th>\n",
       "      <td>wagon r</td>\n",
       "      <td>2.85</td>\n",
       "      <td>4.15</td>\n",
       "      <td>5200</td>\n",
       "      <td>Petrol</td>\n",
       "      <td>Dealer</td>\n",
       "      <td>Manual</td>\n",
       "      <td>0</td>\n",
       "      <td>12</td>\n",
       "    </tr>\n",
       "    <tr>\n",
       "      <th>4</th>\n",
       "      <td>swift</td>\n",
       "      <td>4.60</td>\n",
       "      <td>6.87</td>\n",
       "      <td>42450</td>\n",
       "      <td>Diesel</td>\n",
       "      <td>Dealer</td>\n",
       "      <td>Manual</td>\n",
       "      <td>0</td>\n",
       "      <td>9</td>\n",
       "    </tr>\n",
       "  </tbody>\n",
       "</table>\n",
       "</div>"
      ],
      "text/plain": [
       "  Car_Name  Selling_Price  Present_Price  Kms_Driven Fuel_Type Seller_Type  \\\n",
       "0     ritz           3.35           5.59       27000    Petrol      Dealer   \n",
       "1      sx4           4.75           9.54       43000    Diesel      Dealer   \n",
       "2     ciaz           7.25           9.85        6900    Petrol      Dealer   \n",
       "3  wagon r           2.85           4.15        5200    Petrol      Dealer   \n",
       "4    swift           4.60           6.87       42450    Diesel      Dealer   \n",
       "\n",
       "  Transmission  Owner  Age  \n",
       "0       Manual      0    9  \n",
       "1       Manual      0   10  \n",
       "2       Manual      0    6  \n",
       "3       Manual      0   12  \n",
       "4       Manual      0    9  "
      ]
     },
     "execution_count": 16,
     "metadata": {},
     "output_type": "execute_result"
    }
   ],
   "source": [
    "df.head()"
   ]
  },
  {
   "cell_type": "code",
   "execution_count": 17,
   "id": "fbaf8e5e",
   "metadata": {},
   "outputs": [],
   "source": [
    "#to import seaborn to plot outliers in the graph\n",
    "import seaborn as sns\n"
   ]
  },
  {
   "cell_type": "code",
   "execution_count": 18,
   "id": "f209393e",
   "metadata": {},
   "outputs": [
    {
     "data": {
      "text/plain": [
       "<Axes: >"
      ]
     },
     "execution_count": 18,
     "metadata": {},
     "output_type": "execute_result"
    },
    {
     "data": {
      "image/png": "[encoded data removed]",
      "text/plain": [
       "<Figure size 640x480 with 1 Axes>"
      ]
     },
     "metadata": {},
     "output_type": "display_data"
    }
   ],
   "source": [
    "sns.boxplot(df['Selling_Price'])"
   ]
  },
  {
   "cell_type": "code",
   "execution_count": 19,
   "id": "d4531359",
   "metadata": {},
   "outputs": [
    {
     "data": {
      "text/plain": [
       "[35.0,\n",
       " 33.0,\n",
       " 23.5,\n",
       " 23.0,\n",
       " 23.0,\n",
       " 23.0,\n",
       " 20.75,\n",
       " 19.99,\n",
       " 19.75,\n",
       " 18.75,\n",
       " 18.0,\n",
       " 17.0,\n",
       " 16.0,\n",
       " 14.9,\n",
       " 14.73,\n",
       " 14.5,\n",
       " 14.25,\n",
       " 12.9,\n",
       " 12.5,\n",
       " 11.75,\n",
       " 11.5,\n",
       " 11.45,\n",
       " 11.25,\n",
       " 11.25,\n",
       " 11.25,\n",
       " 10.9,\n",
       " 10.25,\n",
       " 10.11,\n",
       " 9.7,\n",
       " 9.65,\n",
       " 9.5,\n",
       " 9.25,\n",
       " 9.25,\n",
       " 9.25,\n",
       " 9.15,\n",
       " 9.1,\n",
       " 8.99,\n",
       " 8.75,\n",
       " 8.65,\n",
       " 8.55,\n",
       " 8.5,\n",
       " 8.4,\n",
       " 8.4,\n",
       " 8.35,\n",
       " 8.25,\n",
       " 8.25,\n",
       " 7.9,\n",
       " 7.75,\n",
       " 7.75,\n",
       " 7.75,\n",
       " 7.5,\n",
       " 7.5,\n",
       " 7.5,\n",
       " 7.45,\n",
       " 7.45,\n",
       " 7.45,\n",
       " 7.4,\n",
       " 7.25,\n",
       " 7.25,\n",
       " 7.2,\n",
       " 7.05,\n",
       " 6.95,\n",
       " 6.85,\n",
       " 6.75,\n",
       " 6.7,\n",
       " 6.6,\n",
       " 6.5,\n",
       " 6.5,\n",
       " 6.45,\n",
       " 6.4,\n",
       " 6.25,\n",
       " 6.25,\n",
       " 6.15,\n",
       " 6.1,\n",
       " 6.0,\n",
       " 6.0,\n",
       " 6.0,\n",
       " 6.0,\n",
       " 5.95,\n",
       " 5.95,\n",
       " 5.9,\n",
       " 5.85,\n",
       " 5.85,\n",
       " 5.8,\n",
       " 5.75,\n",
       " 5.75,\n",
       " 5.65,\n",
       " 5.5,\n",
       " 5.5,\n",
       " 5.5,\n",
       " 5.5,\n",
       " 5.5,\n",
       " 5.4,\n",
       " 5.4,\n",
       " 5.35,\n",
       " 5.3,\n",
       " 5.3,\n",
       " 5.25,\n",
       " 5.25,\n",
       " 5.25,\n",
       " 5.25,\n",
       " 5.25,\n",
       " 5.25,\n",
       " 5.25,\n",
       " 5.2,\n",
       " 5.15,\n",
       " 5.11,\n",
       " 5.0,\n",
       " 4.95,\n",
       " 4.95,\n",
       " 4.9,\n",
       " 4.9,\n",
       " 4.85,\n",
       " 4.8,\n",
       " 4.8,\n",
       " 4.75,\n",
       " 4.75,\n",
       " 4.75,\n",
       " 4.75,\n",
       " 4.75,\n",
       " 4.75,\n",
       " 4.65,\n",
       " 4.6,\n",
       " 4.5,\n",
       " 4.5,\n",
       " 4.5,\n",
       " 4.5,\n",
       " 4.5,\n",
       " 4.5,\n",
       " 4.5,\n",
       " 4.4,\n",
       " 4.4,\n",
       " 4.4,\n",
       " 4.35,\n",
       " 4.15,\n",
       " 4.1,\n",
       " 4.1,\n",
       " 4.0,\n",
       " 4.0,\n",
       " 4.0,\n",
       " 4.0,\n",
       " 4.0,\n",
       " 3.95,\n",
       " 3.95,\n",
       " 3.9,\n",
       " 3.9,\n",
       " 3.8,\n",
       " 3.75,\n",
       " 3.75,\n",
       " 3.65,\n",
       " 3.6,\n",
       " 3.51,\n",
       " 3.5,\n",
       " 3.5,\n",
       " 3.49,\n",
       " 3.45,\n",
       " 3.35,\n",
       " 3.35,\n",
       " 3.25,\n",
       " 3.25,\n",
       " 3.25,\n",
       " 3.15,\n",
       " 3.1,\n",
       " 3.1,\n",
       " 3.1,\n",
       " 3.1,\n",
       " 3.0,\n",
       " 3.0,\n",
       " 3.0,\n",
       " 3.0,\n",
       " 2.95,\n",
       " 2.95,\n",
       " 2.9,\n",
       " 2.9,\n",
       " 2.9,\n",
       " 2.85,\n",
       " 2.85,\n",
       " 2.85,\n",
       " 2.75,\n",
       " 2.75,\n",
       " 2.7,\n",
       " 2.65,\n",
       " 2.65,\n",
       " 2.65,\n",
       " 2.55,\n",
       " 2.55,\n",
       " 2.5,\n",
       " 2.5,\n",
       " 2.35,\n",
       " 2.25,\n",
       " 2.25,\n",
       " 2.25,\n",
       " 2.1,\n",
       " 2.0,\n",
       " 1.95,\n",
       " 1.95,\n",
       " 1.75,\n",
       " 1.7,\n",
       " 1.65,\n",
       " 1.5,\n",
       " 1.45,\n",
       " 1.35,\n",
       " 1.35,\n",
       " 1.35,\n",
       " 1.25,\n",
       " 1.25,\n",
       " 1.2,\n",
       " 1.2,\n",
       " 1.2,\n",
       " 1.15,\n",
       " 1.15,\n",
       " 1.15,\n",
       " 1.15,\n",
       " 1.11,\n",
       " 1.1,\n",
       " 1.1,\n",
       " 1.1,\n",
       " 1.05,\n",
       " 1.05,\n",
       " 1.05,\n",
       " 1.05,\n",
       " 1.05,\n",
       " 1.0,\n",
       " 0.95,\n",
       " 0.9,\n",
       " 0.9,\n",
       " 0.8,\n",
       " 0.78,\n",
       " 0.75,\n",
       " 0.75,\n",
       " 0.75,\n",
       " 0.75,\n",
       " 0.72,\n",
       " 0.65,\n",
       " 0.65,\n",
       " 0.65,\n",
       " 0.65,\n",
       " 0.6,\n",
       " 0.6,\n",
       " 0.6,\n",
       " 0.6,\n",
       " 0.6,\n",
       " 0.6,\n",
       " 0.6,\n",
       " 0.6,\n",
       " 0.55,\n",
       " 0.55,\n",
       " 0.52,\n",
       " 0.51,\n",
       " 0.5,\n",
       " 0.5,\n",
       " 0.5,\n",
       " 0.5,\n",
       " 0.5,\n",
       " 0.48,\n",
       " 0.48,\n",
       " 0.48,\n",
       " 0.48,\n",
       " 0.45,\n",
       " 0.45,\n",
       " 0.45,\n",
       " 0.45,\n",
       " 0.45,\n",
       " 0.45,\n",
       " 0.45,\n",
       " 0.45,\n",
       " 0.42,\n",
       " 0.42,\n",
       " 0.4,\n",
       " 0.4,\n",
       " 0.4,\n",
       " 0.4,\n",
       " 0.4,\n",
       " 0.38,\n",
       " 0.38,\n",
       " 0.35,\n",
       " 0.35,\n",
       " 0.35,\n",
       " 0.35,\n",
       " 0.31,\n",
       " 0.3,\n",
       " 0.3,\n",
       " 0.3,\n",
       " 0.27,\n",
       " 0.25,\n",
       " 0.25,\n",
       " 0.25,\n",
       " 0.25,\n",
       " 0.25,\n",
       " 0.2,\n",
       " 0.2,\n",
       " 0.2,\n",
       " 0.2,\n",
       " 0.2,\n",
       " 0.2,\n",
       " 0.18,\n",
       " 0.17,\n",
       " 0.16,\n",
       " 0.15,\n",
       " 0.12,\n",
       " 0.1]"
      ]
     },
     "execution_count": 19,
     "metadata": {},
     "output_type": "execute_result"
    }
   ],
   "source": [
    "#to display the data that contain outliers ....and sorting them into decending order\n",
    "sorted(df['Selling_Price'],reverse=True)"
   ]
  },
  {
   "cell_type": "code",
   "execution_count": 20,
   "id": "6f7cadc8",
   "metadata": {},
   "outputs": [],
   "source": [
    "#removing the outliers ....assinging the new df without outliers\n",
    "df=df[~(df['Selling_Price']>=33.0) & (df['Selling_Price']<=35.0)]"
   ]
  },
  {
   "cell_type": "code",
   "execution_count": 21,
   "id": "2d85099e",
   "metadata": {},
   "outputs": [
    {
     "data": {
      "text/plain": [
       "(299, 9)"
      ]
     },
     "execution_count": 21,
     "metadata": {},
     "output_type": "execute_result"
    }
   ],
   "source": [
    "#now we have 299 rows and 9 colums after removal of outliers\n",
    "df.shape"
   ]
  },
  {
   "cell_type": "code",
   "execution_count": 22,
   "id": "600a56bf",
   "metadata": {},
   "outputs": [
    {
     "data": {
      "text/plain": [
       "array(['Petrol', 'Diesel', 'CNG'], dtype=object)"
      ]
     },
     "execution_count": 22,
     "metadata": {},
     "output_type": "execute_result"
    }
   ],
   "source": [
    "#to find the unique values in a particular column\n",
    "df['Fuel_Type'].unique()"
   ]
  },
  {
   "cell_type": "code",
   "execution_count": 23,
   "id": "d969e576",
   "metadata": {},
   "outputs": [],
   "source": [
    "#to convert categorical value(Fuel_Type) into numerical vlaue....so we can use dictionary\n",
    "df['Fuel_Type']=df['Fuel_Type'].map({'Petrol':0,'Diesel':1,'CNG':2})"
   ]
  },
  {
   "cell_type": "code",
   "execution_count": 24,
   "id": "ad287eef",
   "metadata": {},
   "outputs": [
    {
     "data": {
      "text/html": [
       "<div>\n",
       "<style scoped>\n",
       "    .dataframe tbody tr th:only-of-type {\n",
       "        vertical-align: middle;\n",
       "    }\n",
       "\n",
       "    .dataframe tbody tr th {\n",
       "        vertical-align: top;\n",
       "    }\n",
       "\n",
       "    .dataframe thead th {\n",
       "        text-align: right;\n",
       "    }\n",
       "</style>\n",
       "<table border=\"1\" class=\"dataframe\">\n",
       "  <thead>\n",
       "    <tr style=\"text-align: right;\">\n",
       "      <th></th>\n",
       "      <th>Car_Name</th>\n",
       "      <th>Selling_Price</th>\n",
       "      <th>Present_Price</th>\n",
       "      <th>Kms_Driven</th>\n",
       "      <th>Fuel_Type</th>\n",
       "      <th>Seller_Type</th>\n",
       "      <th>Transmission</th>\n",
       "      <th>Owner</th>\n",
       "      <th>Age</th>\n",
       "    </tr>\n",
       "  </thead>\n",
       "  <tbody>\n",
       "    <tr>\n",
       "      <th>0</th>\n",
       "      <td>ritz</td>\n",
       "      <td>3.35</td>\n",
       "      <td>5.59</td>\n",
       "      <td>27000</td>\n",
       "      <td>0</td>\n",
       "      <td>Dealer</td>\n",
       "      <td>Manual</td>\n",
       "      <td>0</td>\n",
       "      <td>9</td>\n",
       "    </tr>\n",
       "    <tr>\n",
       "      <th>1</th>\n",
       "      <td>sx4</td>\n",
       "      <td>4.75</td>\n",
       "      <td>9.54</td>\n",
       "      <td>43000</td>\n",
       "      <td>1</td>\n",
       "      <td>Dealer</td>\n",
       "      <td>Manual</td>\n",
       "      <td>0</td>\n",
       "      <td>10</td>\n",
       "    </tr>\n",
       "    <tr>\n",
       "      <th>2</th>\n",
       "      <td>ciaz</td>\n",
       "      <td>7.25</td>\n",
       "      <td>9.85</td>\n",
       "      <td>6900</td>\n",
       "      <td>0</td>\n",
       "      <td>Dealer</td>\n",
       "      <td>Manual</td>\n",
       "      <td>0</td>\n",
       "      <td>6</td>\n",
       "    </tr>\n",
       "    <tr>\n",
       "      <th>3</th>\n",
       "      <td>wagon r</td>\n",
       "      <td>2.85</td>\n",
       "      <td>4.15</td>\n",
       "      <td>5200</td>\n",
       "      <td>0</td>\n",
       "      <td>Dealer</td>\n",
       "      <td>Manual</td>\n",
       "      <td>0</td>\n",
       "      <td>12</td>\n",
       "    </tr>\n",
       "    <tr>\n",
       "      <th>4</th>\n",
       "      <td>swift</td>\n",
       "      <td>4.60</td>\n",
       "      <td>6.87</td>\n",
       "      <td>42450</td>\n",
       "      <td>1</td>\n",
       "      <td>Dealer</td>\n",
       "      <td>Manual</td>\n",
       "      <td>0</td>\n",
       "      <td>9</td>\n",
       "    </tr>\n",
       "  </tbody>\n",
       "</table>\n",
       "</div>"
      ],
      "text/plain": [
       "  Car_Name  Selling_Price  Present_Price  Kms_Driven  Fuel_Type Seller_Type  \\\n",
       "0     ritz           3.35           5.59       27000          0      Dealer   \n",
       "1      sx4           4.75           9.54       43000          1      Dealer   \n",
       "2     ciaz           7.25           9.85        6900          0      Dealer   \n",
       "3  wagon r           2.85           4.15        5200          0      Dealer   \n",
       "4    swift           4.60           6.87       42450          1      Dealer   \n",
       "\n",
       "  Transmission  Owner  Age  \n",
       "0       Manual      0    9  \n",
       "1       Manual      0   10  \n",
       "2       Manual      0    6  \n",
       "3       Manual      0   12  \n",
       "4       Manual      0    9  "
      ]
     },
     "execution_count": 24,
     "metadata": {},
     "output_type": "execute_result"
    }
   ],
   "source": [
    "df.head()"
   ]
  },
  {
   "cell_type": "code",
   "execution_count": 25,
   "id": "481ee44f",
   "metadata": {},
   "outputs": [
    {
     "data": {
      "text/plain": [
       "array([0, 1, 2], dtype=int64)"
      ]
     },
     "execution_count": 25,
     "metadata": {},
     "output_type": "execute_result"
    }
   ],
   "source": [
    "df['Fuel_Type'].unique()"
   ]
  },
  {
   "cell_type": "code",
   "execution_count": 26,
   "id": "0814119d",
   "metadata": {},
   "outputs": [
    {
     "data": {
      "text/plain": [
       "array(['Dealer', 'Individual'], dtype=object)"
      ]
     },
     "execution_count": 26,
     "metadata": {},
     "output_type": "execute_result"
    }
   ],
   "source": [
    "df['Seller_Type'].unique()"
   ]
  },
  {
   "cell_type": "code",
   "execution_count": 27,
   "id": "d153c897",
   "metadata": {},
   "outputs": [],
   "source": [
    "#to convert categorical value(Seller_Type) into numerical vlaue....so we can use dictionary\n",
    "\n",
    "df['Seller_Type']=df['Seller_Type'].map({'Dealer':0,'Individual':1})"
   ]
  },
  {
   "cell_type": "code",
   "execution_count": 28,
   "id": "99f2decf",
   "metadata": {},
   "outputs": [
    {
     "data": {
      "text/html": [
       "<div>\n",
       "<style scoped>\n",
       "    .dataframe tbody tr th:only-of-type {\n",
       "        vertical-align: middle;\n",
       "    }\n",
       "\n",
       "    .dataframe tbody tr th {\n",
       "        vertical-align: top;\n",
       "    }\n",
       "\n",
       "    .dataframe thead th {\n",
       "        text-align: right;\n",
       "    }\n",
       "</style>\n",
       "<table border=\"1\" class=\"dataframe\">\n",
       "  <thead>\n",
       "    <tr style=\"text-align: right;\">\n",
       "      <th></th>\n",
       "      <th>Car_Name</th>\n",
       "      <th>Selling_Price</th>\n",
       "      <th>Present_Price</th>\n",
       "      <th>Kms_Driven</th>\n",
       "      <th>Fuel_Type</th>\n",
       "      <th>Seller_Type</th>\n",
       "      <th>Transmission</th>\n",
       "      <th>Owner</th>\n",
       "      <th>Age</th>\n",
       "    </tr>\n",
       "  </thead>\n",
       "  <tbody>\n",
       "    <tr>\n",
       "      <th>0</th>\n",
       "      <td>ritz</td>\n",
       "      <td>3.35</td>\n",
       "      <td>5.59</td>\n",
       "      <td>27000</td>\n",
       "      <td>0</td>\n",
       "      <td>0</td>\n",
       "      <td>Manual</td>\n",
       "      <td>0</td>\n",
       "      <td>9</td>\n",
       "    </tr>\n",
       "    <tr>\n",
       "      <th>1</th>\n",
       "      <td>sx4</td>\n",
       "      <td>4.75</td>\n",
       "      <td>9.54</td>\n",
       "      <td>43000</td>\n",
       "      <td>1</td>\n",
       "      <td>0</td>\n",
       "      <td>Manual</td>\n",
       "      <td>0</td>\n",
       "      <td>10</td>\n",
       "    </tr>\n",
       "    <tr>\n",
       "      <th>2</th>\n",
       "      <td>ciaz</td>\n",
       "      <td>7.25</td>\n",
       "      <td>9.85</td>\n",
       "      <td>6900</td>\n",
       "      <td>0</td>\n",
       "      <td>0</td>\n",
       "      <td>Manual</td>\n",
       "      <td>0</td>\n",
       "      <td>6</td>\n",
       "    </tr>\n",
       "    <tr>\n",
       "      <th>3</th>\n",
       "      <td>wagon r</td>\n",
       "      <td>2.85</td>\n",
       "      <td>4.15</td>\n",
       "      <td>5200</td>\n",
       "      <td>0</td>\n",
       "      <td>0</td>\n",
       "      <td>Manual</td>\n",
       "      <td>0</td>\n",
       "      <td>12</td>\n",
       "    </tr>\n",
       "    <tr>\n",
       "      <th>4</th>\n",
       "      <td>swift</td>\n",
       "      <td>4.60</td>\n",
       "      <td>6.87</td>\n",
       "      <td>42450</td>\n",
       "      <td>1</td>\n",
       "      <td>0</td>\n",
       "      <td>Manual</td>\n",
       "      <td>0</td>\n",
       "      <td>9</td>\n",
       "    </tr>\n",
       "  </tbody>\n",
       "</table>\n",
       "</div>"
      ],
      "text/plain": [
       "  Car_Name  Selling_Price  Present_Price  Kms_Driven  Fuel_Type  Seller_Type  \\\n",
       "0     ritz           3.35           5.59       27000          0            0   \n",
       "1      sx4           4.75           9.54       43000          1            0   \n",
       "2     ciaz           7.25           9.85        6900          0            0   \n",
       "3  wagon r           2.85           4.15        5200          0            0   \n",
       "4    swift           4.60           6.87       42450          1            0   \n",
       "\n",
       "  Transmission  Owner  Age  \n",
       "0       Manual      0    9  \n",
       "1       Manual      0   10  \n",
       "2       Manual      0    6  \n",
       "3       Manual      0   12  \n",
       "4       Manual      0    9  "
      ]
     },
     "execution_count": 28,
     "metadata": {},
     "output_type": "execute_result"
    }
   ],
   "source": [
    "df.head()"
   ]
  },
  {
   "cell_type": "code",
   "execution_count": 29,
   "id": "94f2d7a3",
   "metadata": {},
   "outputs": [
    {
     "data": {
      "text/plain": [
       "array(['Manual', 'Automatic'], dtype=object)"
      ]
     },
     "execution_count": 29,
     "metadata": {},
     "output_type": "execute_result"
    }
   ],
   "source": [
    "df['Transmission'].unique()"
   ]
  },
  {
   "cell_type": "code",
   "execution_count": 30,
   "id": "ee3b2764",
   "metadata": {},
   "outputs": [],
   "source": [
    "#to convert categorical value(Seller_Type) into numerical vlaue....so we can use dictionary\n",
    "df['Transmission']=df['Transmission'].map({'Manual':0,'Automatic':1})"
   ]
  },
  {
   "cell_type": "code",
   "execution_count": 31,
   "id": "002d6261",
   "metadata": {},
   "outputs": [
    {
     "data": {
      "text/plain": [
       "array([0, 1], dtype=int64)"
      ]
     },
     "execution_count": 31,
     "metadata": {},
     "output_type": "execute_result"
    }
   ],
   "source": [
    "df['Transmission'].unique()"
   ]
  },
  {
   "cell_type": "code",
   "execution_count": 32,
   "id": "1bbf3a92",
   "metadata": {},
   "outputs": [
    {
     "data": {
      "text/html": [
       "<div>\n",
       "<style scoped>\n",
       "    .dataframe tbody tr th:only-of-type {\n",
       "        vertical-align: middle;\n",
       "    }\n",
       "\n",
       "    .dataframe tbody tr th {\n",
       "        vertical-align: top;\n",
       "    }\n",
       "\n",
       "    .dataframe thead th {\n",
       "        text-align: right;\n",
       "    }\n",
       "</style>\n",
       "<table border=\"1\" class=\"dataframe\">\n",
       "  <thead>\n",
       "    <tr style=\"text-align: right;\">\n",
       "      <th></th>\n",
       "      <th>Car_Name</th>\n",
       "      <th>Selling_Price</th>\n",
       "      <th>Present_Price</th>\n",
       "      <th>Kms_Driven</th>\n",
       "      <th>Fuel_Type</th>\n",
       "      <th>Seller_Type</th>\n",
       "      <th>Transmission</th>\n",
       "      <th>Owner</th>\n",
       "      <th>Age</th>\n",
       "    </tr>\n",
       "  </thead>\n",
       "  <tbody>\n",
       "    <tr>\n",
       "      <th>0</th>\n",
       "      <td>ritz</td>\n",
       "      <td>3.35</td>\n",
       "      <td>5.59</td>\n",
       "      <td>27000</td>\n",
       "      <td>0</td>\n",
       "      <td>0</td>\n",
       "      <td>0</td>\n",
       "      <td>0</td>\n",
       "      <td>9</td>\n",
       "    </tr>\n",
       "    <tr>\n",
       "      <th>1</th>\n",
       "      <td>sx4</td>\n",
       "      <td>4.75</td>\n",
       "      <td>9.54</td>\n",
       "      <td>43000</td>\n",
       "      <td>1</td>\n",
       "      <td>0</td>\n",
       "      <td>0</td>\n",
       "      <td>0</td>\n",
       "      <td>10</td>\n",
       "    </tr>\n",
       "    <tr>\n",
       "      <th>2</th>\n",
       "      <td>ciaz</td>\n",
       "      <td>7.25</td>\n",
       "      <td>9.85</td>\n",
       "      <td>6900</td>\n",
       "      <td>0</td>\n",
       "      <td>0</td>\n",
       "      <td>0</td>\n",
       "      <td>0</td>\n",
       "      <td>6</td>\n",
       "    </tr>\n",
       "    <tr>\n",
       "      <th>3</th>\n",
       "      <td>wagon r</td>\n",
       "      <td>2.85</td>\n",
       "      <td>4.15</td>\n",
       "      <td>5200</td>\n",
       "      <td>0</td>\n",
       "      <td>0</td>\n",
       "      <td>0</td>\n",
       "      <td>0</td>\n",
       "      <td>12</td>\n",
       "    </tr>\n",
       "    <tr>\n",
       "      <th>4</th>\n",
       "      <td>swift</td>\n",
       "      <td>4.60</td>\n",
       "      <td>6.87</td>\n",
       "      <td>42450</td>\n",
       "      <td>1</td>\n",
       "      <td>0</td>\n",
       "      <td>0</td>\n",
       "      <td>0</td>\n",
       "      <td>9</td>\n",
       "    </tr>\n",
       "  </tbody>\n",
       "</table>\n",
       "</div>"
      ],
      "text/plain": [
       "  Car_Name  Selling_Price  Present_Price  Kms_Driven  Fuel_Type  Seller_Type  \\\n",
       "0     ritz           3.35           5.59       27000          0            0   \n",
       "1      sx4           4.75           9.54       43000          1            0   \n",
       "2     ciaz           7.25           9.85        6900          0            0   \n",
       "3  wagon r           2.85           4.15        5200          0            0   \n",
       "4    swift           4.60           6.87       42450          1            0   \n",
       "\n",
       "   Transmission  Owner  Age  \n",
       "0             0      0    9  \n",
       "1             0      0   10  \n",
       "2             0      0    6  \n",
       "3             0      0   12  \n",
       "4             0      0    9  "
      ]
     },
     "execution_count": 32,
     "metadata": {},
     "output_type": "execute_result"
    }
   ],
   "source": [
    "df.head()"
   ]
  },
  {
   "cell_type": "code",
   "execution_count": 33,
   "id": "58d58d53",
   "metadata": {},
   "outputs": [],
   "source": [
    "#storing features matrix into x\n",
    "x=df.drop(['Car_Name','Selling_Price'],axis=1)\n",
    "#storing response(target) in y\n",
    "y=df['Selling_Price']"
   ]
  },
  {
   "cell_type": "code",
   "execution_count": 34,
   "id": "177b57e8",
   "metadata": {},
   "outputs": [
    {
     "data": {
      "text/html": [
       "<div>\n",
       "<style scoped>\n",
       "    .dataframe tbody tr th:only-of-type {\n",
       "        vertical-align: middle;\n",
       "    }\n",
       "\n",
       "    .dataframe tbody tr th {\n",
       "        vertical-align: top;\n",
       "    }\n",
       "\n",
       "    .dataframe thead th {\n",
       "        text-align: right;\n",
       "    }\n",
       "</style>\n",
       "<table border=\"1\" class=\"dataframe\">\n",
       "  <thead>\n",
       "    <tr style=\"text-align: right;\">\n",
       "      <th></th>\n",
       "      <th>Present_Price</th>\n",
       "      <th>Kms_Driven</th>\n",
       "      <th>Fuel_Type</th>\n",
       "      <th>Seller_Type</th>\n",
       "      <th>Transmission</th>\n",
       "      <th>Owner</th>\n",
       "      <th>Age</th>\n",
       "    </tr>\n",
       "  </thead>\n",
       "  <tbody>\n",
       "    <tr>\n",
       "      <th>0</th>\n",
       "      <td>5.59</td>\n",
       "      <td>27000</td>\n",
       "      <td>0</td>\n",
       "      <td>0</td>\n",
       "      <td>0</td>\n",
       "      <td>0</td>\n",
       "      <td>9</td>\n",
       "    </tr>\n",
       "    <tr>\n",
       "      <th>1</th>\n",
       "      <td>9.54</td>\n",
       "      <td>43000</td>\n",
       "      <td>1</td>\n",
       "      <td>0</td>\n",
       "      <td>0</td>\n",
       "      <td>0</td>\n",
       "      <td>10</td>\n",
       "    </tr>\n",
       "    <tr>\n",
       "      <th>2</th>\n",
       "      <td>9.85</td>\n",
       "      <td>6900</td>\n",
       "      <td>0</td>\n",
       "      <td>0</td>\n",
       "      <td>0</td>\n",
       "      <td>0</td>\n",
       "      <td>6</td>\n",
       "    </tr>\n",
       "    <tr>\n",
       "      <th>3</th>\n",
       "      <td>4.15</td>\n",
       "      <td>5200</td>\n",
       "      <td>0</td>\n",
       "      <td>0</td>\n",
       "      <td>0</td>\n",
       "      <td>0</td>\n",
       "      <td>12</td>\n",
       "    </tr>\n",
       "    <tr>\n",
       "      <th>4</th>\n",
       "      <td>6.87</td>\n",
       "      <td>42450</td>\n",
       "      <td>1</td>\n",
       "      <td>0</td>\n",
       "      <td>0</td>\n",
       "      <td>0</td>\n",
       "      <td>9</td>\n",
       "    </tr>\n",
       "    <tr>\n",
       "      <th>...</th>\n",
       "      <td>...</td>\n",
       "      <td>...</td>\n",
       "      <td>...</td>\n",
       "      <td>...</td>\n",
       "      <td>...</td>\n",
       "      <td>...</td>\n",
       "      <td>...</td>\n",
       "    </tr>\n",
       "    <tr>\n",
       "      <th>296</th>\n",
       "      <td>11.60</td>\n",
       "      <td>33988</td>\n",
       "      <td>1</td>\n",
       "      <td>0</td>\n",
       "      <td>0</td>\n",
       "      <td>0</td>\n",
       "      <td>7</td>\n",
       "    </tr>\n",
       "    <tr>\n",
       "      <th>297</th>\n",
       "      <td>5.90</td>\n",
       "      <td>60000</td>\n",
       "      <td>0</td>\n",
       "      <td>0</td>\n",
       "      <td>0</td>\n",
       "      <td>0</td>\n",
       "      <td>8</td>\n",
       "    </tr>\n",
       "    <tr>\n",
       "      <th>298</th>\n",
       "      <td>11.00</td>\n",
       "      <td>87934</td>\n",
       "      <td>0</td>\n",
       "      <td>0</td>\n",
       "      <td>0</td>\n",
       "      <td>0</td>\n",
       "      <td>14</td>\n",
       "    </tr>\n",
       "    <tr>\n",
       "      <th>299</th>\n",
       "      <td>12.50</td>\n",
       "      <td>9000</td>\n",
       "      <td>1</td>\n",
       "      <td>0</td>\n",
       "      <td>0</td>\n",
       "      <td>0</td>\n",
       "      <td>6</td>\n",
       "    </tr>\n",
       "    <tr>\n",
       "      <th>300</th>\n",
       "      <td>5.90</td>\n",
       "      <td>5464</td>\n",
       "      <td>0</td>\n",
       "      <td>0</td>\n",
       "      <td>0</td>\n",
       "      <td>0</td>\n",
       "      <td>7</td>\n",
       "    </tr>\n",
       "  </tbody>\n",
       "</table>\n",
       "<p>299 rows × 7 columns</p>\n",
       "</div>"
      ],
      "text/plain": [
       "     Present_Price  Kms_Driven  Fuel_Type  Seller_Type  Transmission  Owner  \\\n",
       "0             5.59       27000          0            0             0      0   \n",
       "1             9.54       43000          1            0             0      0   \n",
       "2             9.85        6900          0            0             0      0   \n",
       "3             4.15        5200          0            0             0      0   \n",
       "4             6.87       42450          1            0             0      0   \n",
       "..             ...         ...        ...          ...           ...    ...   \n",
       "296          11.60       33988          1            0             0      0   \n",
       "297           5.90       60000          0            0             0      0   \n",
       "298          11.00       87934          0            0             0      0   \n",
       "299          12.50        9000          1            0             0      0   \n",
       "300           5.90        5464          0            0             0      0   \n",
       "\n",
       "     Age  \n",
       "0      9  \n",
       "1     10  \n",
       "2      6  \n",
       "3     12  \n",
       "4      9  \n",
       "..   ...  \n",
       "296    7  \n",
       "297    8  \n",
       "298   14  \n",
       "299    6  \n",
       "300    7  \n",
       "\n",
       "[299 rows x 7 columns]"
      ]
     },
     "execution_count": 34,
     "metadata": {},
     "output_type": "execute_result"
    }
   ],
   "source": [
    "x"
   ]
  },
  {
   "cell_type": "code",
   "execution_count": 35,
   "id": "031c8617",
   "metadata": {},
   "outputs": [
    {
     "data": {
      "text/plain": [
       "0       3.35\n",
       "1       4.75\n",
       "2       7.25\n",
       "3       2.85\n",
       "4       4.60\n",
       "       ...  \n",
       "296     9.50\n",
       "297     4.00\n",
       "298     3.35\n",
       "299    11.50\n",
       "300     5.30\n",
       "Name: Selling_Price, Length: 299, dtype: float64"
      ]
     },
     "execution_count": 35,
     "metadata": {},
     "output_type": "execute_result"
    }
   ],
   "source": [
    "y"
   ]
  },
  {
   "cell_type": "code",
   "execution_count": 36,
   "id": "63b58b3a",
   "metadata": {},
   "outputs": [],
   "source": [
    "#spliting the dataset into the training set and test set.....for this,, we can use sklearn\n",
    "from sklearn.model_selection import train_test_split"
   ]
  },
  {
   "cell_type": "code",
   "execution_count": 37,
   "id": "9662b10d",
   "metadata": {},
   "outputs": [],
   "source": [
    "x_train,x_test,y_train,y_test=train_test_split(x,y,test_size=0.20,random_state=42)"
   ]
  },
  {
   "cell_type": "code",
   "execution_count": 38,
   "id": "674b17a5",
   "metadata": {},
   "outputs": [
    {
     "name": "stdout",
     "output_type": "stream",
     "text": [
      "Defaulting to user installation because normal site-packages is not writeable\n",
      "Requirement already satisfied: scikit-learn in c:\\users\\hp\\appdata\\roaming\\python\\python310\\site-packages (1.3.1)\n",
      "Requirement already satisfied: numpy<2.0,>=1.17.3 in c:\\programdata\\anaconda3\\lib\\site-packages (from scikit-learn) (1.23.5)\n",
      "Requirement already satisfied: scipy>=1.5.0 in c:\\programdata\\anaconda3\\lib\\site-packages (from scikit-learn) (1.10.0)\n",
      "Requirement already satisfied: joblib>=1.1.1 in c:\\programdata\\anaconda3\\lib\\site-packages (from scikit-learn) (1.1.1)\n",
      "Requirement already satisfied: threadpoolctl>=2.0.0 in c:\\programdata\\anaconda3\\lib\\site-packages (from scikit-learn) (2.2.0)\n",
      "Note: you may need to restart the kernel to use updated packages.\n"
     ]
    }
   ],
   "source": [
    "pip install scikit-learn"
   ]
  },
  {
   "cell_type": "code",
   "execution_count": 39,
   "id": "bd52514b",
   "metadata": {},
   "outputs": [
    {
     "name": "stdout",
     "output_type": "stream",
     "text": [
      "Defaulting to user installation because normal site-packages is not writeable\n",
      "Requirement already satisfied: xgboost in c:\\users\\hp\\appdata\\roaming\\python\\python310\\site-packages (2.0.2)\n",
      "Requirement already satisfied: numpy in c:\\programdata\\anaconda3\\lib\\site-packages (from xgboost) (1.23.5)\n",
      "Requirement already satisfied: scipy in c:\\programdata\\anaconda3\\lib\\site-packages (from xgboost) (1.10.0)\n",
      "Note: you may need to restart the kernel to use updated packages.\n"
     ]
    }
   ],
   "source": [
    "pip install xgboost"
   ]
  },
  {
   "cell_type": "code",
   "execution_count": 40,
   "id": "5a6ae448",
   "metadata": {},
   "outputs": [],
   "source": [
    "#import models\n",
    "#importing linesr regression\n",
    "from sklearn.linear_model import LinearRegression\n",
    "from sklearn.ensemble import RandomForestRegressor\n",
    "from sklearn.ensemble import GradientBoostingRegressor\n",
    "from xgboost import XGBRegressor"
   ]
  },
  {
   "cell_type": "code",
   "execution_count": 41,
   "id": "6bafbfcc",
   "metadata": {},
   "outputs": [
    {
     "data": {
      "text/html": [
       "<style>#sk-container-id-1 {color: black;}#sk-container-id-1 pre{padding: 0;}#sk-container-id-1 div.sk-toggleable {background-color: white;}#sk-container-id-1 label.sk-toggleable__label {cursor: pointer;display: block;width: 100%;margin-bottom: 0;padding: 0.3em;box-sizing: border-box;text-align: center;}#sk-container-id-1 label.sk-toggleable__label-arrow:before {content: \"▸\";float: left;margin-right: 0.25em;color: #696969;}#sk-container-id-1 label.sk-toggleable__label-arrow:hover:before {color: black;}#sk-container-id-1 div.sk-estimator:hover label.sk-toggleable__label-arrow:before {color: black;}#sk-container-id-1 div.sk-toggleable__content {max-height: 0;max-width: 0;overflow: hidden;text-align: left;background-color: #f0f8ff;}#sk-container-id-1 div.sk-toggleable__content pre {margin: 0.2em;color: black;border-radius: 0.25em;background-color: #f0f8ff;}#sk-container-id-1 input.sk-toggleable__control:checked~div.sk-toggleable__content {max-height: 200px;max-width: 100%;overflow: auto;}#sk-container-id-1 input.sk-toggleable__control:checked~label.sk-toggleable__label-arrow:before {content: \"▾\";}#sk-container-id-1 div.sk-estimator input.sk-toggleable__control:checked~label.sk-toggleable__label {background-color: #d4ebff;}#sk-container-id-1 div.sk-label input.sk-toggleable__control:checked~label.sk-toggleable__label {background-color: #d4ebff;}#sk-container-id-1 input.sk-hidden--visually {border: 0;clip: rect(1px 1px 1px 1px);clip: rect(1px, 1px, 1px, 1px);height: 1px;margin: -1px;overflow: hidden;padding: 0;position: absolute;width: 1px;}#sk-container-id-1 div.sk-estimator {font-family: monospace;background-color: #f0f8ff;border: 1px dotted black;border-radius: 0.25em;box-sizing: border-box;margin-bottom: 0.5em;}#sk-container-id-1 div.sk-estimator:hover {background-color: #d4ebff;}#sk-container-id-1 div.sk-parallel-item::after {content: \"\";width: 100%;border-bottom: 1px solid gray;flex-grow: 1;}#sk-container-id-1 div.sk-label:hover label.sk-toggleable__label {background-color: #d4ebff;}#sk-container-id-1 div.sk-serial::before {content: \"\";position: absolute;border-left: 1px solid gray;box-sizing: border-box;top: 0;bottom: 0;left: 50%;z-index: 0;}#sk-container-id-1 div.sk-serial {display: flex;flex-direction: column;align-items: center;background-color: white;padding-right: 0.2em;padding-left: 0.2em;position: relative;}#sk-container-id-1 div.sk-item {position: relative;z-index: 1;}#sk-container-id-1 div.sk-parallel {display: flex;align-items: stretch;justify-content: center;background-color: white;position: relative;}#sk-container-id-1 div.sk-item::before, #sk-container-id-1 div.sk-parallel-item::before {content: \"\";position: absolute;border-left: 1px solid gray;box-sizing: border-box;top: 0;bottom: 0;left: 50%;z-index: -1;}#sk-container-id-1 div.sk-parallel-item {display: flex;flex-direction: column;z-index: 1;position: relative;background-color: white;}#sk-container-id-1 div.sk-parallel-item:first-child::after {align-self: flex-end;width: 50%;}#sk-container-id-1 div.sk-parallel-item:last-child::after {align-self: flex-start;width: 50%;}#sk-container-id-1 div.sk-parallel-item:only-child::after {width: 0;}#sk-container-id-1 div.sk-dashed-wrapped {border: 1px dashed gray;margin: 0 0.4em 0.5em 0.4em;box-sizing: border-box;padding-bottom: 0.4em;background-color: white;}#sk-container-id-1 div.sk-label label {font-family: monospace;font-weight: bold;display: inline-block;line-height: 1.2em;}#sk-container-id-1 div.sk-label-container {text-align: center;}#sk-container-id-1 div.sk-container {/* jupyter's `normalize.less` sets `[hidden] { display: none; }` but bootstrap.min.css set `[hidden] { display: none !important; }` so we also need the `!important` here to be able to override the default hidden behavior on the sphinx rendered scikit-learn.org. See: https://github.com/scikit-learn/scikit-learn/issues/21755 */display: inline-block !important;position: relative;}#sk-container-id-1 div.sk-text-repr-fallback {display: none;}</style><div id=\"sk-container-id-1\" class=\"sk-top-container\"><div class=\"sk-text-repr-fallback\"><pre>XGBRegressor(base_score=None, booster=None, callbacks=None,\n",
       "             colsample_bylevel=None, colsample_bynode=None,\n",
       "             colsample_bytree=None, device=None, early_stopping_rounds=None,\n",
       "             enable_categorical=False, eval_metric=None, feature_types=None,\n",
       "             gamma=None, grow_policy=None, importance_type=None,\n",
       "             interaction_constraints=None, learning_rate=None, max_bin=None,\n",
       "             max_cat_threshold=None, max_cat_to_onehot=None,\n",
       "             max_delta_step=None, max_depth=None, max_leaves=None,\n",
       "             min_child_weight=None, missing=nan, monotone_constraints=None,\n",
       "             multi_strategy=None, n_estimators=None, n_jobs=None,\n",
       "             num_parallel_tree=None, random_state=None, ...)</pre><b>In a Jupyter environment, please rerun this cell to show the HTML representation or trust the notebook. <br />On GitHub, the HTML representation is unable to render, please try loading this page with nbviewer.org.</b></div><div class=\"sk-container\" hidden><div class=\"sk-item\"><div class=\"sk-estimator sk-toggleable\"><input class=\"sk-toggleable__control sk-hidden--visually\" id=\"sk-estimator-id-1\" type=\"checkbox\" checked><label for=\"sk-estimator-id-1\" class=\"sk-toggleable__label sk-toggleable__label-arrow\">XGBRegressor</label><div class=\"sk-toggleable__content\"><pre>XGBRegressor(base_score=None, booster=None, callbacks=None,\n",
       "             colsample_bylevel=None, colsample_bynode=None,\n",
       "             colsample_bytree=None, device=None, early_stopping_rounds=None,\n",
       "             enable_categorical=False, eval_metric=None, feature_types=None,\n",
       "             gamma=None, grow_policy=None, importance_type=None,\n",
       "             interaction_constraints=None, learning_rate=None, max_bin=None,\n",
       "             max_cat_threshold=None, max_cat_to_onehot=None,\n",
       "             max_delta_step=None, max_depth=None, max_leaves=None,\n",
       "             min_child_weight=None, missing=nan, monotone_constraints=None,\n",
       "             multi_strategy=None, n_estimators=None, n_jobs=None,\n",
       "             num_parallel_tree=None, random_state=None, ...)</pre></div></div></div></div></div>"
      ],
      "text/plain": [
       "XGBRegressor(base_score=None, booster=None, callbacks=None,\n",
       "             colsample_bylevel=None, colsample_bynode=None,\n",
       "             colsample_bytree=None, device=None, early_stopping_rounds=None,\n",
       "             enable_categorical=False, eval_metric=None, feature_types=None,\n",
       "             gamma=None, grow_policy=None, importance_type=None,\n",
       "             interaction_constraints=None, learning_rate=None, max_bin=None,\n",
       "             max_cat_threshold=None, max_cat_to_onehot=None,\n",
       "             max_delta_step=None, max_depth=None, max_leaves=None,\n",
       "             min_child_weight=None, missing=nan, monotone_constraints=None,\n",
       "             multi_strategy=None, n_estimators=None, n_jobs=None,\n",
       "             num_parallel_tree=None, random_state=None, ...)"
      ]
     },
     "execution_count": 41,
     "metadata": {},
     "output_type": "execute_result"
    }
   ],
   "source": [
    "#model Training\n",
    "\n",
    "lr=LinearRegression()\n",
    "lr.fit(x_train,y_train)\n",
    "\n",
    "rf=RandomForestRegressor()\n",
    "rf.fit(x_train,y_train)\n",
    "\n",
    "xgb=GradientBoostingRegressor()\n",
    "xgb.fit(x_train,y_train)\n",
    "\n",
    "xg=XGBRegressor()\n",
    "xg.fit(x_train,y_train)"
   ]
  },
  {
   "cell_type": "code",
   "execution_count": 42,
   "id": "72b2a962",
   "metadata": {},
   "outputs": [],
   "source": [
    "#PREDICTION ON TEST DATA\n",
    "y_predict1=lr.predict(x_test)\n",
    "y_predict2=rf.predict(x_test)\n",
    "y_predict3=xgb.predict(x_test)\n",
    "y_predict4=xg.predict(x_test)"
   ]
  },
  {
   "cell_type": "code",
   "execution_count": 43,
   "id": "373224c2",
   "metadata": {},
   "outputs": [],
   "source": [
    "#evaluating the algorithm\n",
    "from sklearn import metrics\n",
    "\n"
   ]
  },
  {
   "cell_type": "code",
   "execution_count": 44,
   "id": "18b00d62",
   "metadata": {},
   "outputs": [],
   "source": [
    "score1=metrics.r2_score(y_test,y_predict1)\n",
    "score2=metrics.r2_score(y_test,y_predict2)\n",
    "score3=metrics.r2_score(y_test,y_predict3)\n",
    "score4=metrics.r2_score(y_test,y_predict4)"
   ]
  },
  {
   "cell_type": "code",
   "execution_count": 45,
   "id": "13194968",
   "metadata": {},
   "outputs": [
    {
     "name": "stdout",
     "output_type": "stream",
     "text": [
      "0.6790884983129396 0.7113731751003538 0.8834629747723929 0.8887471822279068\n"
     ]
    }
   ],
   "source": [
    "print(score1,score2,score3,score4)"
   ]
  },
  {
   "cell_type": "code",
   "execution_count": 56,
   "id": "4a8b17af",
   "metadata": {},
   "outputs": [],
   "source": [
    "final_data=pd.DataFrame({'Models':['LR','RF','XGB','XG'],\n",
    "                        \"R2_Score\":[score1,score2,score3,score4]})"
   ]
  },
  {
   "cell_type": "code",
   "execution_count": 57,
   "id": "8f25e523",
   "metadata": {},
   "outputs": [
    {
     "data": {
      "text/html": [
       "<div>\n",
       "<style scoped>\n",
       "    .dataframe tbody tr th:only-of-type {\n",
       "        vertical-align: middle;\n",
       "    }\n",
       "\n",
       "    .dataframe tbody tr th {\n",
       "        vertical-align: top;\n",
       "    }\n",
       "\n",
       "    .dataframe thead th {\n",
       "        text-align: right;\n",
       "    }\n",
       "</style>\n",
       "<table border=\"1\" class=\"dataframe\">\n",
       "  <thead>\n",
       "    <tr style=\"text-align: right;\">\n",
       "      <th></th>\n",
       "      <th>Models</th>\n",
       "      <th>R2_Score</th>\n",
       "    </tr>\n",
       "  </thead>\n",
       "  <tbody>\n",
       "    <tr>\n",
       "      <th>0</th>\n",
       "      <td>LR</td>\n",
       "      <td>0.679088</td>\n",
       "    </tr>\n",
       "    <tr>\n",
       "      <th>1</th>\n",
       "      <td>RF</td>\n",
       "      <td>0.711373</td>\n",
       "    </tr>\n",
       "    <tr>\n",
       "      <th>2</th>\n",
       "      <td>XGB</td>\n",
       "      <td>0.883463</td>\n",
       "    </tr>\n",
       "    <tr>\n",
       "      <th>3</th>\n",
       "      <td>XG</td>\n",
       "      <td>0.888747</td>\n",
       "    </tr>\n",
       "  </tbody>\n",
       "</table>\n",
       "</div>"
      ],
      "text/plain": [
       "  Models  R2_Score\n",
       "0     LR  0.679088\n",
       "1     RF  0.711373\n",
       "2    XGB  0.883463\n",
       "3     XG  0.888747"
      ]
     },
     "execution_count": 57,
     "metadata": {},
     "output_type": "execute_result"
    }
   ],
   "source": [
    "final_data"
   ]
  },
  {
   "cell_type": "code",
   "execution_count": 59,
   "id": "ba15b4c6",
   "metadata": {},
   "outputs": [
    {
     "data": {
      "text/plain": [
       "<Axes: xlabel='Models', ylabel='R2_Score'>"
      ]
     },
     "execution_count": 59,
     "metadata": {},
     "output_type": "execute_result"
    },
    {
     "data": {
      "image/png": "[encoded data removed]",
      "text/plain": [
       "<Figure size 640x480 with 1 Axes>"
      ]
     },
     "metadata": {},
     "output_type": "display_data"
    }
   ],
   "source": [
    "sns.barplot(x=\"Models\", y=\"R2_Score\", data=final_data)\n",
    "#here we can find that the best model"
   ]
  },
  {
   "cell_type": "code",
   "execution_count": 60,
   "id": "3624eebc",
   "metadata": {},
   "outputs": [],
   "source": [
    "#saving the best model\n",
    "xg=XGBRegressor()\n",
    "xg_final=xg.fit(x,y)"
   ]
  },
  {
   "cell_type": "code",
   "execution_count": 61,
   "id": "0a90afab",
   "metadata": {},
   "outputs": [],
   "source": [
    "import joblib"
   ]
  },
  {
   "cell_type": "code",
   "execution_count": 62,
   "id": "7c6fd6eb",
   "metadata": {},
   "outputs": [
    {
     "data": {
      "text/plain": [
       "['Car_Price_Predictor']"
      ]
     },
     "execution_count": 62,
     "metadata": {},
     "output_type": "execute_result"
    }
   ],
   "source": [
    "joblib.dump(xg_final,'Car_Price_Predictor')"
   ]
  },
  {
   "cell_type": "code",
   "execution_count": 63,
   "id": "288ecb4f",
   "metadata": {},
   "outputs": [],
   "source": [
    "model=joblib.load('Car_Price_Predictor')"
   ]
  },
  {
   "cell_type": "code",
   "execution_count": 64,
   "id": "3f17cb3f",
   "metadata": {},
   "outputs": [],
   "source": [
    "#prediction on new data\n",
    "import pandas as pd"
   ]
  },
  {
   "cell_type": "code",
   "execution_count": 66,
   "id": "c461df2f",
   "metadata": {},
   "outputs": [],
   "source": [
    "data_new=pd.DataFrame({\n",
    "    'Present_Price':5.59,\n",
    "    'Kms_Driven':27000,\n",
    "    'Fuel_Type':0,\n",
    "    'Seller_Type':0,\n",
    "    'Transmission':0,\n",
    "    'Owner':0,\n",
    "    'Age':8\n",
    "},index=[0])"
   ]
  },
  {
   "cell_type": "code",
   "execution_count": 67,
   "id": "c96e7429",
   "metadata": {},
   "outputs": [
    {
     "data": {
      "text/plain": [
       "array([3.45956], dtype=float32)"
      ]
     },
     "execution_count": 67,
     "metadata": {},
     "output_type": "execute_result"
    }
   ],
   "source": [
    "model.predict(data_new)"
   ]
  },
  {
   "cell_type": "code",
   "execution_count": null,
   "id": "9622dea6",
   "metadata": {},
   "outputs": [
    {
     "name": "stdout",
     "output_type": "stream",
     "text": [
      "Car Purchase Amount 19.875797\n"
     ]
    }
   ],
   "source": [
    "#GUI for the models\n",
    "\n",
    "\n",
    "from tkinter import *\n",
    "import joblib\n",
    "\n",
    "def show_entry_fields():\n",
    "    p1=float(e1.get())\n",
    "    p2=float(e2.get())\n",
    "    p3=float(e3.get())\n",
    "    p4=float(e4.get())\n",
    "    p5=float(e5.get())\n",
    "    p6=float(e6.get())\n",
    "    p7=float(e7.get())\n",
    "    model=joblib.load('Car_Price_Predictor')\n",
    "    data_new=pd.DataFrame({\n",
    "    'Present_Price':p1,\n",
    "    'Kms_Driven':p2,\n",
    "    'Fuel_Type':p3,\n",
    "    'Seller_Type':p4,\n",
    "    'Transmission':p5,\n",
    "    'Owner':p6,\n",
    "    'Age':p7\n",
    "},index=[0])\n",
    "    result=model.predict(data_new)\n",
    "    Label(master,text=\"Car Purchase Amount\").grid(row=8)\n",
    "    Label(master,text=result).grid(row=10)\n",
    "    print(\"Car Purchase Amount\",result[0])\n",
    "    \n",
    "master=Tk()\n",
    "master.title(\"Car Price Prediction using Machine Learning\")\n",
    "label=Label(master,text=\"Car Price Prediction using Machine Learning\",bg=\"black\",fg=\"white\").grid(row=0,columnspan=2)\n",
    "\n",
    "Label(master,text=\"Present_Price\").grid(row=1)\n",
    "Label(master,text=\"Kms_Driven\").grid(row=2)\n",
    "Label(master,text=\"Fuel_Type\").grid(row=3)\n",
    "Label(master,text=\"Seller_Type\").grid(row=4)\n",
    "Label(master,text=\"Transmission\").grid(row=5)\n",
    "Label(master,text=\"Owner\").grid(row=6)\n",
    "Label(master,text=\"Age\").grid(row=7)\n",
    "\n",
    "e1=Entry(master)\n",
    "e2=Entry(master)\n",
    "e3=Entry(master)\n",
    "e4=Entry(master)\n",
    "e5=Entry(master)\n",
    "e6=Entry(master)\n",
    "e7=Entry(master)\n",
    "\n",
    "e1.grid(row=1,column=1)\n",
    "e2.grid(row=2,column=1)\n",
    "e3.grid(row=3,column=1)\n",
    "e4.grid(row=4,column=1)\n",
    "e5.grid(row=5,column=1)\n",
    "e6.grid(row=6,column=1)\n",
    "e7.grid(row=7,column=1)\n",
    "\n",
    "Button(master,text=\"Predict\",command=show_entry_fields).grid()\n",
    "\n",
    "mainloop()\n",
    "\n"
   ]
  },
  {
   "cell_type": "code",
   "execution_count": null,
   "id": "45e6a42a",
   "metadata": {},
   "outputs": [],
   "source": []
  }
 ],
 "metadata": {
  "kernelspec": {
   "display_name": "Python 3 (ipykernel)",
   "language": "python",
   "name": "python3"
  },
  "language_info": {
   "codemirror_mode": {
    "name": "ipython",
    "version": 3
   },
   "file_extension": ".py",
   "mimetype": "text/x-python",
   "name": "python",
   "nbconvert_exporter": "python",
   "pygments_lexer": "ipython3",
   "version": "3.10.9"
  }
 },
 "nbformat": 4,
 "nbformat_minor": 5
}
